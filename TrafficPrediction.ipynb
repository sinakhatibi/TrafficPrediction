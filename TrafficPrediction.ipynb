{
  "nbformat": 4,
  "nbformat_minor": 0,
  "metadata": {
    "colab": {
      "name": "TrafficPrediction.ipynb",
      "version": "0.3.2",
      "provenance": [],
      "collapsed_sections": [],
      "include_colab_link": true
    },
    "language_info": {
      "codemirror_mode": {
        "name": "ipython",
        "version": 3
      },
      "file_extension": ".py",
      "mimetype": "text/x-python",
      "name": "python",
      "nbconvert_exporter": "python",
      "pygments_lexer": "ipython3",
      "version": "3.6.4"
    },
    "kernelspec": {
      "display_name": "Python 3",
      "language": "python",
      "name": "python3"
    }
  },
  "cells": [
    {
      "cell_type": "markdown",
      "metadata": {
        "id": "view-in-github",
        "colab_type": "text"
      },
      "source": [
        "<a href=\"https://colab.research.google.com/github/sinakhatibi/TrafficPrediction/blob/master/TrafficPrediction.ipynb\" target=\"_parent\"><img src=\"https://colab.research.google.com/assets/colab-badge.svg\" alt=\"Open In Colab\"/></a>"
      ]
    },
    {
      "cell_type": "markdown",
      "metadata": {
        "id": "fUBvID92cjak",
        "colab_type": "text"
      },
      "source": [
        "# Imports"
      ]
    },
    {
      "cell_type": "code",
      "metadata": {
        "scrolled": true,
        "id": "Mj1sWZmRcjal",
        "colab_type": "code",
        "outputId": "cd51cc5d-57ff-47fb-cde4-49e835b172ef",
        "colab": {
          "base_uri": "https://localhost:8080/",
          "height": 51
        }
      },
      "source": [
        "import csv\n",
        "import keras\n",
        "import matplotlib.pyplot as plt\n",
        "keras.__version__"
      ],
      "execution_count": 0,
      "outputs": [
        {
          "output_type": "stream",
          "text": [
            "Using TensorFlow backend.\n"
          ],
          "name": "stderr"
        },
        {
          "output_type": "execute_result",
          "data": {
            "text/plain": [
              "'2.2.4'"
            ]
          },
          "metadata": {
            "tags": []
          },
          "execution_count": 1
        }
      ]
    },
    {
      "cell_type": "code",
      "metadata": {
        "id": "vIZzD45scjap",
        "colab_type": "code",
        "colab": {}
      },
      "source": [
        "import numpy as np\n",
        "np.random.seed(7)"
      ],
      "execution_count": 0,
      "outputs": []
    },
    {
      "cell_type": "markdown",
      "metadata": {
        "id": "F8t14DCWcjas",
        "colab_type": "text"
      },
      "source": [
        "# Generate Traffic\n"
      ]
    },
    {
      "cell_type": "code",
      "metadata": {
        "id": "KpW0vyrlcjas",
        "colab_type": "code",
        "colab": {}
      },
      "source": [
        "win_size_min = 5\n",
        "max_time_size = int(24*60 /win_size_min)\n",
        "time = np.linspace(0, 24*60, max_time_size)\n",
        "\n",
        "lamda_max = 50\n",
        "lamda_min = 5\n",
        "lamda_step = lamda_max/(12*60)\n",
        "lamda = np.zeros(max_time_size)\n",
        "\n",
        "for i in range(max_time_size):\n",
        "    lamda[i] = lamda_max  - ((lamda_max - lamda_min)/lamda_max) * abs(lamda_max - lamda_step * time[i]);\n",
        "\n",
        "demand = np.zeros(max_time_size)\n",
        "for i in range(max_time_size):\n",
        "    demand[i] = np.mean(np.random.poisson(lamda[i],100*win_size_min));\n",
        "\n",
        "\n",
        "\n",
        "# CSV_inputs = np.empty(shape=(0, 2), dtype=float)\n",
        "# csv_time = np.empty(shape=(0, 1), dtype=float)\n",
        "# csv_demand = np.empty(shape=(0, 1), dtype=float)\n",
        "# with open('traffic.csv') as csvfile:\n",
        "#     readCSV = csv.reader(csvfile, delimiter=',')\n",
        "#     size = 0\n",
        "#     for row in readCSV:\n",
        "#         size += 1\n",
        "#         time = float(row[0])\n",
        "#         demand = float(row[1])\n",
        "#         CSV_inputs = np.append(CSV_inputs, np.array([[time, demand]]), axis=0)\n",
        "#         csv_time = np.append(csv_time, np.array([[time]]), axis=0)\n",
        "#         csv_demand = np.append(csv_demand, np.array([[demand]]), axis=0)"
      ],
      "execution_count": 0,
      "outputs": []
    },
    {
      "cell_type": "code",
      "metadata": {
        "id": "tUny_X_Tcjau",
        "colab_type": "code",
        "outputId": "f5077a36-86cb-4d6c-d6ab-00a873c1d399",
        "colab": {
          "base_uri": "https://localhost:8080/",
          "height": 269
        }
      },
      "source": [
        "plt.plot(time,demand)\n",
        "plt.show()"
      ],
      "execution_count": 0,
      "outputs": [
        {
          "output_type": "display_data",
          "data": {
            "image/png": "[encoded data removed]",
            "text/plain": [
              "<Figure size 432x288 with 1 Axes>"
            ]
          },
          "metadata": {
            "tags": []
          }
        }
      ]
    },
    {
      "cell_type": "code",
      "metadata": {
        "id": "vXKxK9zmcjax",
        "colab_type": "code",
        "colab": {}
      },
      "source": [
        "# normalise the data\n",
        "norm_fator_demand_mean = np.mean(demand)\n",
        "norm_fator_demand_std = np.max(demand )\n",
        "demand = (demand)/norm_fator_demand_std"
      ],
      "execution_count": 0,
      "outputs": []
    },
    {
      "cell_type": "markdown",
      "metadata": {
        "id": "_rc0mOdBcja0",
        "colab_type": "text"
      },
      "source": [
        "# Making the Input Vector"
      ]
    },
    {
      "cell_type": "code",
      "metadata": {
        "id": "xpQQ6QWFcja0",
        "colab_type": "code",
        "colab": {}
      },
      "source": [
        "window_size = 5\n",
        "size = max_time_size\n",
        "#making input vector\n",
        "\n",
        "input_vector = np.empty(shape=(0, window_size), dtype=float)\n",
        "for i in range(size):\n",
        "    tmp = []\n",
        "    for j in range(window_size):\n",
        "        k = i - j-1 if i-j > 0 else size+i-j-2;\n",
        "        tmp = np.append(tmp, demand[k])\n",
        "    input_vector = np.append(input_vector,np.array([tmp]),axis=0)\n",
        "\n",
        "input_vector = input_vector"
      ],
      "execution_count": 0,
      "outputs": []
    },
    {
      "cell_type": "code",
      "metadata": {
        "id": "klpjEe2Tcja2",
        "colab_type": "code",
        "outputId": "d8913191-f49f-4ff1-9116-b1ae70f9b12d",
        "colab": {
          "base_uri": "https://localhost:8080/",
          "height": 377
        }
      },
      "source": [
        "from keras import models\n",
        "from keras import layers\n",
        "\n",
        "from sklearn.model_selection import cross_val_score\n",
        "from sklearn.model_selection import KFold\n",
        "from sklearn.preprocessing import StandardScaler\n",
        "from sklearn.pipeline import Pipeline\n",
        "\n",
        "model = models.Sequential()\n",
        "model.add(layers.Dense(16, activation='relu', input_shape=(window_size,)))\n",
        "model.add(layers.Dense(16, activation='relu'))\n",
        "model.add(layers.Dense(1, activation='sigmoid'))\n",
        "model.summary()"
      ],
      "execution_count": 0,
      "outputs": [
        {
          "output_type": "stream",
          "text": [
            "WARNING: Logging before flag parsing goes to stderr.\n",
            "W0614 10:05:52.923373 140311358314368 deprecation_wrapper.py:119] From /usr/local/lib/python3.6/dist-packages/keras/backend/tensorflow_backend.py:74: The name tf.get_default_graph is deprecated. Please use tf.compat.v1.get_default_graph instead.\n",
            "\n",
            "W0614 10:05:52.987203 140311358314368 deprecation_wrapper.py:119] From /usr/local/lib/python3.6/dist-packages/keras/backend/tensorflow_backend.py:517: The name tf.placeholder is deprecated. Please use tf.compat.v1.placeholder instead.\n",
            "\n",
            "W0614 10:05:52.996776 140311358314368 deprecation_wrapper.py:119] From /usr/local/lib/python3.6/dist-packages/keras/backend/tensorflow_backend.py:4138: The name tf.random_uniform is deprecated. Please use tf.random.uniform instead.\n",
            "\n"
          ],
          "name": "stderr"
        },
        {
          "output_type": "stream",
          "text": [
            "_________________________________________________________________\n",
            "Layer (type)                 Output Shape              Param #   \n",
            "=================================================================\n",
            "dense_1 (Dense)              (None, 16)                96        \n",
            "_________________________________________________________________\n",
            "dense_2 (Dense)              (None, 16)                272       \n",
            "_________________________________________________________________\n",
            "dense_3 (Dense)              (None, 1)                 17        \n",
            "=================================================================\n",
            "Total params: 385\n",
            "Trainable params: 385\n",
            "Non-trainable params: 0\n",
            "_________________________________________________________________\n"
          ],
          "name": "stdout"
        }
      ]
    },
    {
      "cell_type": "code",
      "metadata": {
        "id": "xjcAG0BBcja5",
        "colab_type": "code",
        "outputId": "2f435b67-df7f-4110-e8c7-38df0efb32b3",
        "colab": {
          "base_uri": "https://localhost:8080/",
          "height": 51
        }
      },
      "source": [
        "model.compile(loss='mean_squared_error', optimizer='adam', metrics=['accuracy'])"
      ],
      "execution_count": 0,
      "outputs": [
        {
          "output_type": "stream",
          "text": [
            "W0614 10:05:56.215739 140311358314368 deprecation_wrapper.py:119] From /usr/local/lib/python3.6/dist-packages/keras/optimizers.py:790: The name tf.train.Optimizer is deprecated. Please use tf.compat.v1.train.Optimizer instead.\n",
            "\n"
          ],
          "name": "stderr"
        }
      ]
    },
    {
      "cell_type": "code",
      "metadata": {
        "id": "YvZsM6Qicja7",
        "colab_type": "code",
        "colab": {}
      },
      "source": [
        "# from keras import losses\n",
        "# from keras import metrics\n",
        "\n",
        "# model.compile(optimizer='adam',\n",
        "#               loss=losses.mean_squared_error,\n",
        "#               metrics=[metrics.binary_accuracy])"
      ],
      "execution_count": 0,
      "outputs": []
    },
    {
      "cell_type": "code",
      "metadata": {
        "id": "3qNn__uecja-",
        "colab_type": "code",
        "colab": {}
      },
      "source": [
        "tr_size = int(np.floor(.1 * size))\n",
        "\n",
        "x_train = input_vector[:-tr_size,:]\n",
        "y_train = demand[:-tr_size]\n",
        "\n",
        "x_val = input_vector[:tr_size]\n",
        "y_val = demand[:tr_size]"
      ],
      "execution_count": 0,
      "outputs": []
    },
    {
      "cell_type": "code",
      "metadata": {
        "id": "I1ivm2lOcjbA",
        "colab_type": "code",
        "outputId": "f22595cb-fc4a-4a00-8775-c2cffabdfda1",
        "colab": {
          "base_uri": "https://localhost:8080/",
          "height": 3522
        }
      },
      "source": [
        "history = model.fit(x_train,\n",
        "                    y_train,\n",
        "                    epochs=100,\n",
        "                    batch_size=1,\n",
        "                    validation_data=(x_val, y_val))"
      ],
      "execution_count": 0,
      "outputs": [
        {
          "output_type": "stream",
          "text": [
            "W0614 10:06:02.588526 140311358314368 deprecation_wrapper.py:119] From /usr/local/lib/python3.6/dist-packages/keras/backend/tensorflow_backend.py:986: The name tf.assign_add is deprecated. Please use tf.compat.v1.assign_add instead.\n",
            "\n",
            "W0614 10:06:02.667126 140311358314368 deprecation_wrapper.py:119] From /usr/local/lib/python3.6/dist-packages/keras/backend/tensorflow_backend.py:973: The name tf.assign is deprecated. Please use tf.compat.v1.assign instead.\n",
            "\n"
          ],
          "name": "stderr"
        },
        {
          "output_type": "stream",
          "text": [
            "Train on 260 samples, validate on 28 samples\n",
            "Epoch 1/100\n",
            "260/260 [==============================] - 1s 4ms/step - loss: 0.0569 - acc: 0.0038 - val_loss: 0.1082 - val_acc: 0.0000e+00\n",
            "Epoch 2/100\n",
            "260/260 [==============================] - 0s 1ms/step - loss: 0.0311 - acc: 0.0038 - val_loss: 0.0509 - val_acc: 0.0000e+00\n",
            "Epoch 3/100\n",
            "260/260 [==============================] - 0s 1ms/step - loss: 0.0099 - acc: 0.0038 - val_loss: 0.0069 - val_acc: 0.0000e+00\n",
            "Epoch 4/100\n",
            "260/260 [==============================] - 0s 1ms/step - loss: 0.0021 - acc: 0.0038 - val_loss: 0.0012 - val_acc: 0.0000e+00\n",
            "Epoch 5/100\n",
            "260/260 [==============================] - 0s 1ms/step - loss: 0.0011 - acc: 0.0038 - val_loss: 6.8535e-04 - val_acc: 0.0000e+00\n",
            "Epoch 6/100\n",
            "260/260 [==============================] - 0s 1ms/step - loss: 9.9579e-04 - acc: 0.0038 - val_loss: 6.1267e-04 - val_acc: 0.0000e+00\n",
            "Epoch 7/100\n",
            "260/260 [==============================] - 0s 1ms/step - loss: 9.7870e-04 - acc: 0.0038 - val_loss: 6.3300e-04 - val_acc: 0.0000e+00\n",
            "Epoch 8/100\n",
            "260/260 [==============================] - 0s 1ms/step - loss: 9.9424e-04 - acc: 0.0038 - val_loss: 5.4161e-04 - val_acc: 0.0000e+00\n",
            "Epoch 9/100\n",
            "260/260 [==============================] - 0s 1ms/step - loss: 9.5547e-04 - acc: 0.0038 - val_loss: 5.3531e-04 - val_acc: 0.0000e+00\n",
            "Epoch 10/100\n",
            "260/260 [==============================] - 0s 1ms/step - loss: 9.9301e-04 - acc: 0.0038 - val_loss: 5.6379e-04 - val_acc: 0.0000e+00\n",
            "Epoch 11/100\n",
            "260/260 [==============================] - 0s 1ms/step - loss: 9.4190e-04 - acc: 0.0038 - val_loss: 5.3078e-04 - val_acc: 0.0000e+00\n",
            "Epoch 12/100\n",
            "260/260 [==============================] - 0s 1ms/step - loss: 8.9832e-04 - acc: 0.0038 - val_loss: 4.8609e-04 - val_acc: 0.0000e+00\n",
            "Epoch 13/100\n",
            "260/260 [==============================] - 0s 1ms/step - loss: 9.4001e-04 - acc: 0.0038 - val_loss: 5.4494e-04 - val_acc: 0.0000e+00\n",
            "Epoch 14/100\n",
            "260/260 [==============================] - 0s 1ms/step - loss: 9.1262e-04 - acc: 0.0038 - val_loss: 4.4374e-04 - val_acc: 0.0000e+00\n",
            "Epoch 15/100\n",
            "260/260 [==============================] - 0s 1ms/step - loss: 8.8402e-04 - acc: 0.0038 - val_loss: 4.4829e-04 - val_acc: 0.0000e+00\n",
            "Epoch 16/100\n",
            "260/260 [==============================] - 0s 1ms/step - loss: 8.7684e-04 - acc: 0.0038 - val_loss: 4.6746e-04 - val_acc: 0.0000e+00\n",
            "Epoch 17/100\n",
            "260/260 [==============================] - 0s 1ms/step - loss: 8.4872e-04 - acc: 0.0038 - val_loss: 4.6813e-04 - val_acc: 0.0000e+00\n",
            "Epoch 18/100\n",
            "260/260 [==============================] - 0s 1ms/step - loss: 8.0389e-04 - acc: 0.0038 - val_loss: 4.4891e-04 - val_acc: 0.0000e+00\n",
            "Epoch 19/100\n",
            "260/260 [==============================] - 0s 1ms/step - loss: 7.7788e-04 - acc: 0.0038 - val_loss: 4.5457e-04 - val_acc: 0.0000e+00\n",
            "Epoch 20/100\n",
            "260/260 [==============================] - 0s 1ms/step - loss: 7.2497e-04 - acc: 0.0038 - val_loss: 4.4353e-04 - val_acc: 0.0000e+00\n",
            "Epoch 21/100\n",
            "260/260 [==============================] - 0s 1ms/step - loss: 7.1146e-04 - acc: 0.0038 - val_loss: 4.4754e-04 - val_acc: 0.0000e+00\n",
            "Epoch 22/100\n",
            "260/260 [==============================] - 0s 1ms/step - loss: 7.4028e-04 - acc: 0.0038 - val_loss: 4.4187e-04 - val_acc: 0.0000e+00\n",
            "Epoch 23/100\n",
            "260/260 [==============================] - 0s 1ms/step - loss: 6.8744e-04 - acc: 0.0038 - val_loss: 5.0708e-04 - val_acc: 0.0000e+00\n",
            "Epoch 24/100\n",
            "260/260 [==============================] - 0s 1ms/step - loss: 6.0431e-04 - acc: 0.0038 - val_loss: 4.2876e-04 - val_acc: 0.0000e+00\n",
            "Epoch 25/100\n",
            "260/260 [==============================] - 0s 1ms/step - loss: 6.1244e-04 - acc: 0.0038 - val_loss: 4.8044e-04 - val_acc: 0.0000e+00\n",
            "Epoch 26/100\n",
            "260/260 [==============================] - 0s 1ms/step - loss: 5.7996e-04 - acc: 0.0038 - val_loss: 5.6663e-04 - val_acc: 0.0000e+00\n",
            "Epoch 27/100\n",
            "260/260 [==============================] - 0s 1ms/step - loss: 5.9980e-04 - acc: 0.0038 - val_loss: 4.3001e-04 - val_acc: 0.0000e+00\n",
            "Epoch 28/100\n",
            "260/260 [==============================] - 0s 1ms/step - loss: 6.0693e-04 - acc: 0.0038 - val_loss: 4.7357e-04 - val_acc: 0.0000e+00\n",
            "Epoch 29/100\n",
            "260/260 [==============================] - 0s 1ms/step - loss: 5.5665e-04 - acc: 0.0038 - val_loss: 4.9693e-04 - val_acc: 0.0000e+00\n",
            "Epoch 30/100\n",
            "260/260 [==============================] - 0s 1ms/step - loss: 5.6657e-04 - acc: 0.0038 - val_loss: 4.5368e-04 - val_acc: 0.0000e+00\n",
            "Epoch 31/100\n",
            "260/260 [==============================] - 0s 1ms/step - loss: 5.5410e-04 - acc: 0.0038 - val_loss: 5.0088e-04 - val_acc: 0.0000e+00\n",
            "Epoch 32/100\n",
            "260/260 [==============================] - 0s 1ms/step - loss: 5.6492e-04 - acc: 0.0038 - val_loss: 5.7328e-04 - val_acc: 0.0000e+00\n",
            "Epoch 33/100\n",
            "260/260 [==============================] - 0s 1ms/step - loss: 5.3500e-04 - acc: 0.0038 - val_loss: 4.5220e-04 - val_acc: 0.0000e+00\n",
            "Epoch 34/100\n",
            "260/260 [==============================] - 0s 1ms/step - loss: 5.1079e-04 - acc: 0.0038 - val_loss: 6.9803e-04 - val_acc: 0.0000e+00\n",
            "Epoch 35/100\n",
            "260/260 [==============================] - 0s 1ms/step - loss: 5.0705e-04 - acc: 0.0038 - val_loss: 5.7160e-04 - val_acc: 0.0000e+00\n",
            "Epoch 36/100\n",
            "260/260 [==============================] - 0s 1ms/step - loss: 4.6370e-04 - acc: 0.0038 - val_loss: 4.7749e-04 - val_acc: 0.0000e+00\n",
            "Epoch 37/100\n",
            "260/260 [==============================] - 0s 1ms/step - loss: 4.6686e-04 - acc: 0.0038 - val_loss: 4.5199e-04 - val_acc: 0.0000e+00\n",
            "Epoch 38/100\n",
            "260/260 [==============================] - 0s 1ms/step - loss: 4.2446e-04 - acc: 0.0038 - val_loss: 4.4832e-04 - val_acc: 0.0000e+00\n",
            "Epoch 39/100\n",
            "260/260 [==============================] - 0s 1ms/step - loss: 5.1666e-04 - acc: 0.0038 - val_loss: 5.9716e-04 - val_acc: 0.0000e+00\n",
            "Epoch 40/100\n",
            "260/260 [==============================] - 0s 1ms/step - loss: 4.2259e-04 - acc: 0.0038 - val_loss: 6.1433e-04 - val_acc: 0.0000e+00\n",
            "Epoch 41/100\n",
            "260/260 [==============================] - 0s 1ms/step - loss: 4.6260e-04 - acc: 0.0038 - val_loss: 5.7162e-04 - val_acc: 0.0000e+00\n",
            "Epoch 42/100\n",
            "260/260 [==============================] - 0s 1ms/step - loss: 4.5148e-04 - acc: 0.0038 - val_loss: 5.3958e-04 - val_acc: 0.0000e+00\n",
            "Epoch 43/100\n",
            "260/260 [==============================] - 0s 1ms/step - loss: 4.2215e-04 - acc: 0.0038 - val_loss: 5.6413e-04 - val_acc: 0.0000e+00\n",
            "Epoch 44/100\n",
            "260/260 [==============================] - 0s 1ms/step - loss: 4.1114e-04 - acc: 0.0038 - val_loss: 4.5765e-04 - val_acc: 0.0000e+00\n",
            "Epoch 45/100\n",
            "260/260 [==============================] - 0s 1ms/step - loss: 4.1503e-04 - acc: 0.0038 - val_loss: 5.2015e-04 - val_acc: 0.0000e+00\n",
            "Epoch 46/100\n",
            "260/260 [==============================] - 0s 1ms/step - loss: 4.0176e-04 - acc: 0.0038 - val_loss: 5.2416e-04 - val_acc: 0.0000e+00\n",
            "Epoch 47/100\n",
            "260/260 [==============================] - 0s 1ms/step - loss: 3.8763e-04 - acc: 0.0038 - val_loss: 5.8207e-04 - val_acc: 0.0000e+00\n",
            "Epoch 48/100\n",
            "260/260 [==============================] - 0s 1ms/step - loss: 3.8222e-04 - acc: 0.0038 - val_loss: 4.4547e-04 - val_acc: 0.0000e+00\n",
            "Epoch 49/100\n",
            "260/260 [==============================] - 0s 1ms/step - loss: 3.7762e-04 - acc: 0.0038 - val_loss: 6.7424e-04 - val_acc: 0.0000e+00\n",
            "Epoch 50/100\n",
            "260/260 [==============================] - 0s 1ms/step - loss: 3.6690e-04 - acc: 0.0038 - val_loss: 6.1636e-04 - val_acc: 0.0000e+00\n",
            "Epoch 51/100\n",
            "260/260 [==============================] - 0s 1ms/step - loss: 3.4532e-04 - acc: 0.0038 - val_loss: 5.8800e-04 - val_acc: 0.0000e+00\n",
            "Epoch 52/100\n",
            "260/260 [==============================] - 0s 1ms/step - loss: 3.7685e-04 - acc: 0.0038 - val_loss: 6.9964e-04 - val_acc: 0.0000e+00\n",
            "Epoch 53/100\n",
            "260/260 [==============================] - 0s 1ms/step - loss: 3.9594e-04 - acc: 0.0038 - val_loss: 4.5923e-04 - val_acc: 0.0000e+00\n",
            "Epoch 54/100\n",
            "260/260 [==============================] - 0s 1ms/step - loss: 3.4601e-04 - acc: 0.0038 - val_loss: 4.1572e-04 - val_acc: 0.0000e+00\n",
            "Epoch 55/100\n",
            "260/260 [==============================] - 0s 1ms/step - loss: 4.4547e-04 - acc: 0.0038 - val_loss: 4.2953e-04 - val_acc: 0.0000e+00\n",
            "Epoch 56/100\n",
            "260/260 [==============================] - 0s 1ms/step - loss: 3.3957e-04 - acc: 0.0038 - val_loss: 4.9618e-04 - val_acc: 0.0000e+00\n",
            "Epoch 57/100\n",
            "260/260 [==============================] - 0s 1ms/step - loss: 3.3403e-04 - acc: 0.0038 - val_loss: 5.8615e-04 - val_acc: 0.0000e+00\n",
            "Epoch 58/100\n",
            "260/260 [==============================] - 0s 1ms/step - loss: 3.8258e-04 - acc: 0.0038 - val_loss: 4.6604e-04 - val_acc: 0.0000e+00\n",
            "Epoch 59/100\n",
            "260/260 [==============================] - 0s 1ms/step - loss: 3.4344e-04 - acc: 0.0038 - val_loss: 5.5782e-04 - val_acc: 0.0000e+00\n",
            "Epoch 60/100\n",
            "260/260 [==============================] - 0s 1ms/step - loss: 2.9414e-04 - acc: 0.0038 - val_loss: 6.4507e-04 - val_acc: 0.0000e+00\n",
            "Epoch 61/100\n",
            "260/260 [==============================] - 0s 1ms/step - loss: 3.1939e-04 - acc: 0.0038 - val_loss: 6.3474e-04 - val_acc: 0.0000e+00\n",
            "Epoch 62/100\n",
            "260/260 [==============================] - 0s 1ms/step - loss: 3.2375e-04 - acc: 0.0038 - val_loss: 5.5492e-04 - val_acc: 0.0000e+00\n",
            "Epoch 63/100\n",
            "260/260 [==============================] - 0s 1ms/step - loss: 3.0677e-04 - acc: 0.0038 - val_loss: 5.7987e-04 - val_acc: 0.0000e+00\n",
            "Epoch 64/100\n",
            "260/260 [==============================] - 0s 1ms/step - loss: 3.4928e-04 - acc: 0.0038 - val_loss: 4.3104e-04 - val_acc: 0.0000e+00\n",
            "Epoch 65/100\n",
            "260/260 [==============================] - 0s 1ms/step - loss: 3.2266e-04 - acc: 0.0038 - val_loss: 5.5058e-04 - val_acc: 0.0000e+00\n",
            "Epoch 66/100\n",
            "260/260 [==============================] - 0s 1ms/step - loss: 3.0357e-04 - acc: 0.0038 - val_loss: 3.8392e-04 - val_acc: 0.0000e+00\n",
            "Epoch 67/100\n",
            "260/260 [==============================] - 0s 1ms/step - loss: 2.8787e-04 - acc: 0.0038 - val_loss: 6.1823e-04 - val_acc: 0.0000e+00\n",
            "Epoch 68/100\n",
            "260/260 [==============================] - 0s 1ms/step - loss: 2.8728e-04 - acc: 0.0038 - val_loss: 5.0819e-04 - val_acc: 0.0000e+00\n",
            "Epoch 69/100\n",
            "260/260 [==============================] - 0s 1ms/step - loss: 3.3576e-04 - acc: 0.0038 - val_loss: 4.2270e-04 - val_acc: 0.0000e+00\n",
            "Epoch 70/100\n",
            "260/260 [==============================] - 0s 1ms/step - loss: 2.6991e-04 - acc: 0.0038 - val_loss: 5.5870e-04 - val_acc: 0.0000e+00\n",
            "Epoch 71/100\n",
            "260/260 [==============================] - 0s 1ms/step - loss: 2.4299e-04 - acc: 0.0038 - val_loss: 3.0150e-04 - val_acc: 0.0000e+00\n",
            "Epoch 72/100\n",
            "260/260 [==============================] - 0s 1ms/step - loss: 2.3828e-04 - acc: 0.0038 - val_loss: 2.8293e-04 - val_acc: 0.0000e+00\n",
            "Epoch 73/100\n",
            "260/260 [==============================] - 0s 1ms/step - loss: 2.3879e-04 - acc: 0.0038 - val_loss: 1.5367e-04 - val_acc: 0.0000e+00\n",
            "Epoch 74/100\n",
            "260/260 [==============================] - 0s 1ms/step - loss: 2.1843e-04 - acc: 0.0038 - val_loss: 1.2024e-04 - val_acc: 0.0000e+00\n",
            "Epoch 75/100\n",
            "260/260 [==============================] - 0s 1ms/step - loss: 2.5084e-04 - acc: 0.0038 - val_loss: 1.7035e-04 - val_acc: 0.0000e+00\n",
            "Epoch 76/100\n",
            "260/260 [==============================] - 0s 1ms/step - loss: 2.2471e-04 - acc: 0.0038 - val_loss: 1.0193e-04 - val_acc: 0.0000e+00\n",
            "Epoch 77/100\n",
            "260/260 [==============================] - 0s 1ms/step - loss: 1.9194e-04 - acc: 0.0038 - val_loss: 7.1704e-05 - val_acc: 0.0000e+00\n",
            "Epoch 78/100\n",
            "260/260 [==============================] - 0s 1ms/step - loss: 2.4146e-04 - acc: 0.0038 - val_loss: 5.9572e-05 - val_acc: 0.0000e+00\n",
            "Epoch 79/100\n",
            "260/260 [==============================] - 0s 1ms/step - loss: 2.0318e-04 - acc: 0.0038 - val_loss: 5.6523e-05 - val_acc: 0.0000e+00\n",
            "Epoch 80/100\n",
            "260/260 [==============================] - 0s 1ms/step - loss: 2.1818e-04 - acc: 0.0038 - val_loss: 7.8686e-05 - val_acc: 0.0000e+00\n",
            "Epoch 81/100\n",
            "260/260 [==============================] - 0s 1ms/step - loss: 1.7104e-04 - acc: 0.0038 - val_loss: 3.8815e-05 - val_acc: 0.0000e+00\n",
            "Epoch 82/100\n",
            "260/260 [==============================] - 0s 1ms/step - loss: 1.8885e-04 - acc: 0.0038 - val_loss: 4.2575e-05 - val_acc: 0.0000e+00\n",
            "Epoch 83/100\n",
            "260/260 [==============================] - 0s 1ms/step - loss: 2.2081e-04 - acc: 0.0038 - val_loss: 4.4862e-05 - val_acc: 0.0000e+00\n",
            "Epoch 84/100\n",
            "260/260 [==============================] - 0s 1ms/step - loss: 1.9259e-04 - acc: 0.0038 - val_loss: 7.9413e-05 - val_acc: 0.0000e+00\n",
            "Epoch 85/100\n",
            "260/260 [==============================] - 0s 1ms/step - loss: 1.9634e-04 - acc: 0.0038 - val_loss: 4.4340e-05 - val_acc: 0.0000e+00\n",
            "Epoch 86/100\n",
            "260/260 [==============================] - 0s 1ms/step - loss: 1.6167e-04 - acc: 0.0038 - val_loss: 6.3425e-05 - val_acc: 0.0000e+00\n",
            "Epoch 87/100\n",
            "260/260 [==============================] - 0s 1ms/step - loss: 1.9488e-04 - acc: 0.0038 - val_loss: 3.8061e-05 - val_acc: 0.0000e+00\n",
            "Epoch 88/100\n",
            "260/260 [==============================] - 0s 1ms/step - loss: 1.9827e-04 - acc: 0.0038 - val_loss: 8.4607e-05 - val_acc: 0.0000e+00\n",
            "Epoch 89/100\n",
            "260/260 [==============================] - 0s 1ms/step - loss: 2.0402e-04 - acc: 0.0038 - val_loss: 9.4947e-05 - val_acc: 0.0000e+00\n",
            "Epoch 90/100\n",
            "260/260 [==============================] - 0s 1ms/step - loss: 1.9528e-04 - acc: 0.0038 - val_loss: 3.5283e-05 - val_acc: 0.0000e+00\n",
            "Epoch 91/100\n",
            "260/260 [==============================] - 0s 1ms/step - loss: 1.6664e-04 - acc: 0.0038 - val_loss: 3.3089e-05 - val_acc: 0.0000e+00\n",
            "Epoch 92/100\n",
            "260/260 [==============================] - 0s 1ms/step - loss: 1.8365e-04 - acc: 0.0038 - val_loss: 4.0060e-05 - val_acc: 0.0000e+00\n",
            "Epoch 93/100\n",
            "260/260 [==============================] - 0s 1ms/step - loss: 1.9223e-04 - acc: 0.0038 - val_loss: 4.7149e-05 - val_acc: 0.0000e+00\n",
            "Epoch 94/100\n",
            "260/260 [==============================] - 0s 1ms/step - loss: 1.8417e-04 - acc: 0.0038 - val_loss: 5.7778e-05 - val_acc: 0.0000e+00\n",
            "Epoch 95/100\n",
            "260/260 [==============================] - 0s 1ms/step - loss: 1.4534e-04 - acc: 0.0038 - val_loss: 3.4701e-05 - val_acc: 0.0000e+00\n",
            "Epoch 96/100\n",
            "260/260 [==============================] - 0s 1ms/step - loss: 1.8208e-04 - acc: 0.0038 - val_loss: 3.7759e-05 - val_acc: 0.0000e+00\n",
            "Epoch 97/100\n",
            "260/260 [==============================] - 0s 1ms/step - loss: 2.2331e-04 - acc: 0.0038 - val_loss: 5.7304e-05 - val_acc: 0.0000e+00\n",
            "Epoch 98/100\n",
            "260/260 [==============================] - 0s 1ms/step - loss: 1.9007e-04 - acc: 0.0038 - val_loss: 4.2643e-05 - val_acc: 0.0000e+00\n",
            "Epoch 99/100\n",
            "260/260 [==============================] - 0s 1ms/step - loss: 1.5946e-04 - acc: 0.0038 - val_loss: 3.3645e-05 - val_acc: 0.0000e+00\n",
            "Epoch 100/100\n",
            "260/260 [==============================] - 0s 1ms/step - loss: 1.6585e-04 - acc: 0.0038 - val_loss: 3.8226e-05 - val_acc: 0.0000e+00\n"
          ],
          "name": "stdout"
        }
      ]
    },
    {
      "cell_type": "code",
      "metadata": {
        "id": "YdSRyqK_cjbD",
        "colab_type": "code",
        "colab": {}
      },
      "source": [
        "predict = model.predict(input_vector)"
      ],
      "execution_count": 0,
      "outputs": []
    },
    {
      "cell_type": "code",
      "metadata": {
        "id": "-YpGbISBcjbF",
        "colab_type": "code",
        "outputId": "14bd0ce6-462a-4480-8618-641aae2d2cba",
        "colab": {
          "base_uri": "https://localhost:8080/",
          "height": 269
        }
      },
      "source": [
        "\n",
        "plt.plot(demand, 'b')\n",
        "plt.plot(predict, 'r')\n",
        "plt.show()"
      ],
      "execution_count": 15,
      "outputs": [
        {
          "output_type": "display_data",
          "data": {
            "image/png": "[encoded data removed]",
            "text/plain": [
              "<Figure size 432x288 with 1 Axes>"
            ]
          },
          "metadata": {
            "tags": []
          }
        }
      ]
    }
  ]
}